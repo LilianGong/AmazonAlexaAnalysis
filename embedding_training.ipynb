{
 "cells": [
  {
   "cell_type": "code",
   "execution_count": 6,
   "metadata": {},
   "outputs": [],
   "source": [
    "from gensim.models import Word2Vec\n",
    "from convokit import Corpus, Speaker, Utterance\n",
    "from tqdm import tqdm\n",
    "# sentences = [[\"cat\", \"say\", \"meow\"], [\"dog\", \"say\", \"woof\"]]"
   ]
  },
  {
   "cell_type": "code",
   "execution_count": 7,
   "metadata": {},
   "outputs": [],
   "source": [
    "tartan_corpus = Corpus(filename=\"../tartan_corpus\")"
   ]
  },
  {
   "cell_type": "code",
   "execution_count": 8,
   "metadata": {},
   "outputs": [
    {
     "name": "stderr",
     "output_type": "stream",
     "text": [
      "100%|██████████| 723319/723319 [00:05<00:00, 136870.90it/s]\n"
     ]
    }
   ],
   "source": [
    "utterances = []\n",
    "utt_id = tartan_corpus.get_utterance_ids()\n",
    "for _id in tqdm(utt_id):\n",
    "    utt = tartan_corpus.get_utterance(_id)\n",
    "    if 'user' in utt._id:\n",
    "        utterances.append(utt.text.split(\" \"))"
   ]
  },
  {
   "cell_type": "code",
   "execution_count": 9,
   "metadata": {},
   "outputs": [
    {
     "data": {
      "text/plain": [
       "360345"
      ]
     },
     "execution_count": 9,
     "metadata": {},
     "output_type": "execute_result"
    }
   ],
   "source": [
    "len(utterances)"
   ]
  },
  {
   "cell_type": "code",
   "execution_count": 11,
   "metadata": {},
   "outputs": [],
   "source": [
    "model = Word2Vec(utterances, min_count=1)\n",
    "model.save(\"w2v_all.model\")"
   ]
  }
 ],
 "metadata": {
  "kernelspec": {
   "display_name": "Python 3.7.6 64-bit ('alexa': conda)",
   "language": "python",
   "name": "python37664bitalexacondad7a9f4a699aa4585824425c21292b1af"
  },
  "language_info": {
   "codemirror_mode": {
    "name": "ipython",
    "version": 3
   },
   "file_extension": ".py",
   "mimetype": "text/x-python",
   "name": "python",
   "nbconvert_exporter": "python",
   "pygments_lexer": "ipython3",
   "version": "3.7.6"
  }
 },
 "nbformat": 4,
 "nbformat_minor": 4
}
